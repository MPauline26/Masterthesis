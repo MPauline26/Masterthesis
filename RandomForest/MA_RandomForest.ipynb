{
 "cells": [
  {
   "cell_type": "code",
   "execution_count": 5,
   "metadata": {},
   "outputs": [],
   "source": [
    "# Settings\n",
    "\n",
    "# import packages\n",
    "import pandas as pd\n",
    "import numpy as np\n",
    "\n",
    "import lightgbm as lgb\n",
    "from sklearn import metrics\n",
    "\n",
    "# define path\n",
    "my_path = \"/Users/meikeepauline/Desktop/MA/\"\n",
    "\n",
    "# define variables\n",
    "target_variable = ['DEFAULT_12M']\n",
    "model_variables = ['fico','mi_pct','cnt_units','occpy_sts','cltv','dti','orig_upb','ltv','channel','prop_type','loan_purpose','orig_loan_term','cd_ppty_val_type','us_reg','flag_fthb','cnt_borr','flag_mi','orig_loan_term_3grp','flag_orig_loan_term_HEQ_360M']\n",
    "model_variables_ind = ['fico','mi_pct','cnt_units','cltv','dti','orig_upb','ltv','orig_loan_term','flag_fthb','cnt_borr','flag_mi','flag_orig_loan_term_HEQ_360M'\\\n",
    "                    ,'loan_purpose__C','loan_purpose__N','loan_purpose__P','channel__9','channel__B','channel__C','channel__R','channel__T','cd_ppty_val_type__1','cd_ppty_val_type__2','cd_ppty_val_type__3','cd_ppty_val_type__9','us_reg__Midwest','us_reg__Northeast','us_reg__Other','us_reg__South','us_reg__West','occpy_sts__I','occpy_sts__P']\n",
    "all_variables = model_variables+target_variable"
   ]
  },
  {
   "cell_type": "markdown",
   "metadata": {},
   "source": [
    "Import dataset and print overview"
   ]
  },
  {
   "cell_type": "code",
   "execution_count": 6,
   "metadata": {},
   "outputs": [
    {
     "name": "stdout",
     "output_type": "stream",
     "text": [
      "   Selected  DEFAULT_12M GROUP2      DATUM       id_loan  loan_age_noMod  \\\n",
      "0         1            0   2017 2017-12-01  F17Q40279565              63   \n",
      "1         1            0   2017 2017-12-01  F17Q40215556              63   \n",
      "2         1            0   2017 2017-12-01  F17Q40319954              34   \n",
      "3         1            0   2017 2017-12-01  F17Q40189974              63   \n",
      "4         1            0   2017 2017-12-01  F17Q40162839              63   \n",
      "\n",
      "               KEEP_FLAG  fico  dt_first_pi flag_fthb_raw  ...  \\\n",
      "0  1;More than 12 months   681       201712             N  ...   \n",
      "1  1;More than 12 months   716       201712             N  ...   \n",
      "2  1;More than 12 months   778       201712             N  ...   \n",
      "3  1;More than 12 months   797       201712             N  ...   \n",
      "4  1;More than 12 months   717       201712             Y  ...   \n",
      "\n",
      "   us_reg__Midwest  us_reg__Northeast  us_reg__Other  us_reg__South  \\\n",
      "0                0                  0              0              0   \n",
      "1                0                  0              0              0   \n",
      "2                0                  0              0              0   \n",
      "3                0                  0              0              0   \n",
      "4                0                  0              0              0   \n",
      "\n",
      "  us_reg__West  occpy_sts__I  occpy_sts__P  occpy_sts__S  SelectionProb  \\\n",
      "0            1             0             1             0            0.7   \n",
      "1            1             1             0             0            0.7   \n",
      "2            1             0             1             0            0.7   \n",
      "3            1             0             1             0            0.7   \n",
      "4            1             0             1             0            0.7   \n",
      "\n",
      "   SamplingWeight  \n",
      "0        1.428571  \n",
      "1        1.428571  \n",
      "2        1.428571  \n",
      "3        1.428571  \n",
      "4        1.428571  \n",
      "\n",
      "[5 rows x 85 columns]\n",
      "<class 'pandas.core.frame.DataFrame'>\n",
      "RangeIndex: 10929045 entries, 0 to 10929044\n",
      "Data columns (total 85 columns):\n",
      " #   Column                        Dtype         \n",
      "---  ------                        -----         \n",
      " 0   Selected                      int64         \n",
      " 1   DEFAULT_12M                   int64         \n",
      " 2   GROUP2                        object        \n",
      " 3   DATUM                         datetime64[ns]\n",
      " 4   id_loan                       object        \n",
      " 5   loan_age_noMod                int64         \n",
      " 6   KEEP_FLAG                     object        \n",
      " 7   fico                          int64         \n",
      " 8   dt_first_pi                   int64         \n",
      " 9   flag_fthb_raw                 object        \n",
      " 10  dt_matr                       int64         \n",
      " 11  cd_msa                        float64       \n",
      " 12  mi_pct                        int64         \n",
      " 13  cnt_units                     int64         \n",
      " 14  occpy_sts                     object        \n",
      " 15  cltv                          int64         \n",
      " 16  dti                           int64         \n",
      " 17  orig_upb                      int64         \n",
      " 18  ltv                           int64         \n",
      " 19  orig_int_rt                   float64       \n",
      " 20  channel                       object        \n",
      " 21  ppmt_pnlty_raw                object        \n",
      " 22  amrtzn_type                   object        \n",
      " 23  st                            object        \n",
      " 24  prop_type                     object        \n",
      " 25  zipcode                       object        \n",
      " 26  loan_purpose                  object        \n",
      " 27  orig_loan_term                int64         \n",
      " 28  cnt_borr_raw                  int64         \n",
      " 29  seller_name                   object        \n",
      " 30  servicer_name                 object        \n",
      " 31  flag_sc_raw                   object        \n",
      " 32  id_loan_preharp               object        \n",
      " 33  ind_afdl                      object        \n",
      " 34  ind_harp_raw                  object        \n",
      " 35  cd_ppty_val_type              object        \n",
      " 36  flag_int_only_raw             object        \n",
      " 37  last_period                   int64         \n",
      " 38  cd_zero_bal                   object        \n",
      " 39  zero_bal_delq_sts             object        \n",
      " 40  prepay_count                  float64       \n",
      " 41  default_count                 float64       \n",
      " 42  us_reg                        object        \n",
      " 43  GROUP1                        object        \n",
      " 44  flag_fthb                     int64         \n",
      " 45  ppmt_pnlty                    int64         \n",
      " 46  flag_sc                       float64       \n",
      " 47  ind_harp                      float64       \n",
      " 48  flag_int_only                 int64         \n",
      " 49  cnt_borr                      int64         \n",
      " 50  flag_mi                       int64         \n",
      " 51  orig_loan_term_3grp           object        \n",
      " 52  flag_orig_loan_term_HI_360M   int64         \n",
      " 53  flag_orig_loan_term_HEQ_360M  int64         \n",
      " 54  flag_orig_loan_term_EQ_360M   int64         \n",
      " 55  fico_ADJ                      int64         \n",
      " 56  mi_pct_ADJ                    int64         \n",
      " 57  cltv_ADJ                      int64         \n",
      " 58  dti_ADJ                       int64         \n",
      " 59  ltv_ADJ                       int64         \n",
      " 60  cnt_borr_ADJ                  int64         \n",
      " 61  flag_fthb_ADJ                 int64         \n",
      " 62  flag_mi_ADJ                   int64         \n",
      " 63  loan_purpose__C               int64         \n",
      " 64  loan_purpose__N               int64         \n",
      " 65  loan_purpose__P               int64         \n",
      " 66  channel__9                    int64         \n",
      " 67  channel__B                    int64         \n",
      " 68  channel__C                    int64         \n",
      " 69  channel__R                    int64         \n",
      " 70  channel__T                    int64         \n",
      " 71  cd_ppty_val_type__1           int64         \n",
      " 72  cd_ppty_val_type__2           int64         \n",
      " 73  cd_ppty_val_type__3           int64         \n",
      " 74  cd_ppty_val_type__9           int64         \n",
      " 75  us_reg__Midwest               int64         \n",
      " 76  us_reg__Northeast             int64         \n",
      " 77  us_reg__Other                 int64         \n",
      " 78  us_reg__South                 int64         \n",
      " 79  us_reg__West                  int64         \n",
      " 80  occpy_sts__I                  int64         \n",
      " 81  occpy_sts__P                  int64         \n",
      " 82  occpy_sts__S                  int64         \n",
      " 83  SelectionProb                 float64       \n",
      " 84  SamplingWeight                float64       \n",
      "dtypes: datetime64[ns](1), float64(8), int64(51), object(25)\n",
      "memory usage: 6.9+ GB\n",
      "None\n"
     ]
    }
   ],
   "source": [
    "df_csv = pd.read_csv(my_path+\"DEV_SAMPLE5Y_FINAL.CSV\", parse_dates=[3], dayfirst=True, dtype={'GROUP2': 'str', 'zipcode': 'str', 'cd_ppty_val_type': 'str', 'cd_zero_bal': 'str', 'flag_sc_raw': 'str', 'id_loan_preharp': 'str','ind_harp_raw': 'str', 'zero_bal_delq_sts': 'str'})\n",
    "\n",
    "print(df_csv.head())          # print first 5 rows\n",
    "print(df_csv.info())          # print information of data (null, type)"
   ]
  },
  {
   "cell_type": "markdown",
   "metadata": {},
   "source": [
    "Split data into Training and Test data set for model variables and target "
   ]
  },
  {
   "cell_type": "code",
   "execution_count": 7,
   "metadata": {},
   "outputs": [
    {
     "name": "stdout",
     "output_type": "stream",
     "text": [
      "(7650336, 31) (3278709, 31) (7650336, 1) (3278709, 1)\n"
     ]
    }
   ],
   "source": [
    "temp = df_csv[(df_csv.Selected == 1)]\n",
    "X_train = temp[model_variables_ind]\n",
    "y_train = temp[target_variable]\n",
    "\n",
    "temp = df_csv[(df_csv.Selected == 0)]\n",
    "X_test = temp[model_variables_ind]\n",
    "y_test = temp[target_variable]\n",
    "\n",
    "inp_data = df_csv[model_variables_ind]\n",
    "out_data = df_csv[target_variable]\n",
    "\n",
    "df = df_csv[target_variable+model_variables_ind]\n",
    "\n",
    "print(X_train.shape, X_test.shape, y_train.shape, y_test.shape)\n",
    "#print(\"DR of training sample: \", X_train[\"DEFAULT_12M\"].mean())\n",
    "#print(\"DR of test sample: \", X_test[\"DEFAULT_12M\"].mean())"
   ]
  },
  {
   "cell_type": "markdown",
   "metadata": {},
   "source": [
    "Set hyperparameters"
   ]
  },
  {
   "cell_type": "code",
   "execution_count": 8,
   "metadata": {},
   "outputs": [],
   "source": [
    "params = {\n",
    "    \"objective\": \"multiclass\",\n",
    "    \"num_class\": 2,\n",
    "    \"max_depth\": 5,\n",
    "    \"subsample\": 0.8,\n",
    "    \"colsample_bytree\": 0.8,\n",
    "    \"seed\": 42\n",
    "}"
   ]
  },
  {
   "cell_type": "markdown",
   "metadata": {},
   "source": [
    "Create LightGBM data structure"
   ]
  },
  {
   "cell_type": "code",
   "execution_count": 9,
   "metadata": {},
   "outputs": [],
   "source": [
    "lgb_train = lgb.Dataset(X_train, y_train)"
   ]
  },
  {
   "cell_type": "code",
   "execution_count": 10,
   "metadata": {},
   "outputs": [
    {
     "name": "stdout",
     "output_type": "stream",
     "text": [
      "[LightGBM] [Warning] Accuracy may be bad since you didn't explicitly set num_leaves OR 2^max_depth > num_leaves. (num_leaves=31).\n",
      "[LightGBM] [Warning] Accuracy may be bad since you didn't explicitly set num_leaves OR 2^max_depth > num_leaves. (num_leaves=31).\n",
      "[LightGBM] [Warning] Auto-choosing row-wise multi-threading, the overhead of testing was 0.551190 seconds.\n",
      "You can set `force_row_wise=true` to remove the overhead.\n",
      "And if memory is not enough, you can set `force_col_wise=true`.\n",
      "[LightGBM] [Info] Total Bins 909\n",
      "[LightGBM] [Info] Number of data points in the train set: 7650336, number of used features: 29\n",
      "[LightGBM] [Info] Start training from score -0.009650\n",
      "[LightGBM] [Info] Start training from score -4.645669\n"
     ]
    }
   ],
   "source": [
    "# Fit model\n",
    "num_round = 10\n",
    "bst = lgb.train(params, lgb_train, num_round)"
   ]
  },
  {
   "cell_type": "code",
   "execution_count": 11,
   "metadata": {},
   "outputs": [
    {
     "name": "stdout",
     "output_type": "stream",
     "text": [
      "[[0.97913472 0.02086528]\n",
      " [0.99385787 0.00614213]\n",
      " [0.99508188 0.00491812]\n",
      " ...\n",
      " [0.99449864 0.00550136]\n",
      " [0.98797593 0.01202407]\n",
      " [0.98878778 0.01121222]]\n"
     ]
    }
   ],
   "source": [
    "# Make predictions\n",
    "predictions = bst.predict(X_test)\n",
    "print(predictions)"
   ]
  },
  {
   "cell_type": "markdown",
   "metadata": {},
   "source": [
    "Create Model, Set of hyper parameters"
   ]
  },
  {
   "cell_type": "code",
   "execution_count": 6,
   "metadata": {},
   "outputs": [],
   "source": [
    "RF = RFC(n_estimators=100)"
   ]
  },
  {
   "cell_type": "markdown",
   "metadata": {},
   "source": [
    "Fitting the model"
   ]
  },
  {
   "cell_type": "code",
   "execution_count": 7,
   "metadata": {},
   "outputs": [],
   "source": [
    "RF.fit(X_train,y_train)"
   ]
  },
  {
   "cell_type": "code",
   "execution_count": null,
   "metadata": {},
   "outputs": [],
   "source": []
  },
  {
   "cell_type": "code",
   "execution_count": null,
   "metadata": {},
   "outputs": [],
   "source": []
  },
  {
   "cell_type": "code",
   "execution_count": null,
   "metadata": {},
   "outputs": [],
   "source": []
  },
  {
   "cell_type": "code",
   "execution_count": 31,
   "metadata": {},
   "outputs": [],
   "source": [
    "def result(clf, PD_threshold):\n",
    "    clf.fit(X_train, y_train)\n",
    "    y_pred = clf.predict_proba(X_test)\n",
    "\n",
    "    y_pred_Def = y_pred[:, 1]\n",
    "    y_pred = np.where(y_pred_Def > PD_threshold, 1, 0)\n",
    "    \n",
    "    print('Accuracy Score                           : {:.4f}'.format(accuracy_score(y_test, y_pred)))\n",
    "    print('LightGBM f1-score                        : {:.4f}'.format(f1_score( y_test , y_pred)))\n",
    "    print('LightGBM precision                       : {:.4f}'.format(precision_score(y_test, y_pred)))\n",
    "    print('LightGBM recall                          : {:.4f}'.format(recall_score(y_test, y_pred)))\n",
    "    print(\"LightGBM roc auc score (Default flag)    : {:.4f}\".format(roc_auc_score(y_test,y_pred)))\n",
    "    print(\"LightGBM roc auc score (PD)              : {:.4f}\".format(roc_auc_score(y_test,y_pred_Def)))\n",
    "    print(\"LightGBM GINI (Default flag)             : {:.4f}\".format(2*roc_auc_score(y_test,y_pred)-1))\n",
    "    print(\"LightGBM GINI (PD)                       : {:.4f}\".format(2*roc_auc_score(y_test,y_pred_Def)-1))\n",
    "    print(\"\\n\",classification_report(y_pred, y_test))\n",
    "    \n",
    "    plt.figure(figsize=(6,6))\n",
    "    cf_matrix = confusion_matrix(y_test, y_pred)\n",
    "    sns.heatmap((cf_matrix / np.sum(cf_matrix)*100), annot = True, fmt=\".2f\", cmap=\"Blues\")\n",
    "    plt.title(\"LightGBM Confusion Matrix (Rate)\")\n",
    "    plt.show()\n",
    "    \n",
    "    cm = confusion_matrix(y_test,y_pred)\n",
    "    plt.figure(figsize=(6,6))\n",
    "    sns.heatmap(cm, annot=True, cmap=\"Blues\",\n",
    "                xticklabels=[\"FALSE\",\"TRUE\"],\n",
    "                yticklabels=[\"FALSE\",\"TRUE\"],\n",
    "                cbar=False)\n",
    "    plt.title(\"LightGBM Confusion Matrix (Number)\")\n",
    "    plt.show()\n",
    "    \n",
    "    \n",
    "def report(**params):\n",
    "    scores = [] \n",
    "    for i in range(0,num_simulations): # 250 samples\n",
    "        print('--- Step: ', i, '\\n')\n",
    "        X_train, X_test, y_train, y_test = train_test_split(inp_data, out_data, test_size=0.2, shuffle=True)\n",
    "        sc = StandardScaler()\n",
    "        clf = LGBMClassifier(**params)\n",
    "        X_train = sc.fit_transform(X_train)\n",
    "        X_test = sc.fit_transform(X_test)\n",
    "        clf.fit(X_train, y_train)\n",
    "        scores.append(accuracy_score(clf.predict(X_test), y_test)) \n",
    "        \n",
    "    Importance = pd.DataFrame({'Importance':clf.feature_importances_*100},index=df.columns[1:32])\n",
    "    Importance.sort_values(by='Importance',axis=0,ascending=True).plot(kind='barh',color='lightblue')\n",
    "    plt.xlabel('Importance for variable');\n",
    "    plt.hist(scores)\n",
    "    plt.show()\n",
    "    print(\"Best Score: {}\\nMean Score: {}\".format(np.max(scores), np.mean(scores)))"
   ]
  },
  {
   "cell_type": "code",
   "execution_count": 21,
   "metadata": {},
   "outputs": [
    {
     "name": "stdout",
     "output_type": "stream",
     "text": [
      "Accuracy Score                           : 0.9900\n",
      "LightGBM f1-score                        : 0.0094\n",
      "LightGBM precision                       : 0.0994\n",
      "LightGBM recall                          : 0.0049\n",
      "LightGBM roc auc score (Default flag)    : 0.5022\n",
      "LightGBM roc auc score (PD)              : 0.7604\n",
      "LightGBM GINI (Default flag)             : 0.0045\n",
      "LightGBM GINI (PD)                       : 0.5208\n",
      "\n",
      "               precision    recall  f1-score   support\n",
      "\n",
      "           0       1.00      0.99      0.99   3277149\n",
      "           1       0.00      0.10      0.01      1560\n",
      "\n",
      "    accuracy                           0.99   3278709\n",
      "   macro avg       0.50      0.54      0.50   3278709\n",
      "weighted avg       1.00      0.99      0.99   3278709\n",
      "\n"
     ]
    },
    {
     "data": {
      "image/png": "[encoded data removed]",
      "text/plain": [
       "<Figure size 600x600 with 2 Axes>"
      ]
     },
     "metadata": {},
     "output_type": "display_data"
    },
    {
     "data": {
      "image/png": "[encoded data removed]",
      "text/plain": [
       "<Figure size 600x600 with 1 Axes>"
      ]
     },
     "metadata": {},
     "output_type": "display_data"
    },
    {
     "name": "stdout",
     "output_type": "stream",
     "text": [
      "Threshold: 0.0 F1-score: 0.019021258894124236\n",
      "Threshold: 0.005 F1-score: 0.02962540467174718\n",
      "Threshold: 0.01 F1-score: 0.04074365064863877\n",
      "Threshold: 0.015 F1-score: 0.050857077988420936\n",
      "Threshold: 0.02 F1-score: 0.059035195957459305\n",
      "Threshold: 0.025 F1-score: 0.06579003482834601\n",
      "Threshold: 0.03 F1-score: 0.07076875065016125\n",
      "Threshold: 0.035 F1-score: 0.0733817109057082\n",
      "Threshold: 0.04 F1-score: 0.07296690799427312\n",
      "Threshold: 0.045 F1-score: 0.07078660621967708\n",
      "Threshold: 0.05 F1-score: 0.06361599789154643\n",
      "Threshold: 0.055 F1-score: 0.055252268179433885\n",
      "Threshold: 0.06 F1-score: 0.04733284899720406\n",
      "Threshold: 0.065 F1-score: 0.03956107421311002\n",
      "Threshold: 0.07 F1-score: 0.03348053815343535\n",
      "Threshold: 0.075 F1-score: 0.027532593732286018\n",
      "Threshold: 0.08 F1-score: 0.021885757465506143\n",
      "Threshold: 0.085 F1-score: 0.01949820788530466\n",
      "Threshold: 0.09 F1-score: 0.015853979582882382\n",
      "Threshold: 0.095 F1-score: 0.013530755763923917\n"
     ]
    }
   ],
   "source": [
    "clf = LGBMClassifier()\n",
    "result(clf, 0.5)\n",
    "\n",
    "for threshold in np.arange(0.0, 0.1, 0.005): \n",
    "    y_pred_f1 = np.where(y_pred_Def > threshold, 1, 0)\n",
    "    f1 = f1_score(y_test, y_pred_f1)\n",
    "    print('Threshold:', threshold, 'F1-score:', f1)\n",
    "\n",
    "#report()"
   ]
  },
  {
   "cell_type": "code",
   "execution_count": 33,
   "metadata": {},
   "outputs": [
    {
     "name": "stdout",
     "output_type": "stream",
     "text": [
      "Accuracy Score                           : 0.9619\n",
      "LightGBM f1-score                        : 0.0734\n",
      "LightGBM precision                       : 0.0479\n",
      "LightGBM recall                          : 0.1572\n",
      "LightGBM roc auc score (Default flag)    : 0.5635\n",
      "LightGBM roc auc score (PD)              : 0.7604\n",
      "LightGBM GINI (Default flag)             : 0.1269\n",
      "LightGBM GINI (PD)                       : 0.5208\n",
      "\n",
      "               precision    recall  f1-score   support\n",
      "\n",
      "           0       0.97      0.99      0.98   3175280\n",
      "           1       0.16      0.05      0.07    103429\n",
      "\n",
      "    accuracy                           0.96   3278709\n",
      "   macro avg       0.56      0.52      0.53   3278709\n",
      "weighted avg       0.94      0.96      0.95   3278709\n",
      "\n"
     ]
    },
    {
     "data": {
      "image/png": "[encoded data removed]",
      "text/plain": [
       "<Figure size 600x600 with 2 Axes>"
      ]
     },
     "metadata": {},
     "output_type": "display_data"
    },
    {
     "data": {
      "image/png": "[encoded data removed]",
      "text/plain": [
       "<Figure size 600x600 with 1 Axes>"
      ]
     },
     "metadata": {},
     "output_type": "display_data"
    },
    {
     "name": "stdout",
     "output_type": "stream",
     "text": [
      "--- Step:  0 \n",
      "\n",
      "--- Step:  1 \n",
      "\n",
      "--- Step:  2 \n",
      "\n",
      "--- Step:  3 \n",
      "\n"
     ]
    },
    {
     "ename": "KeyboardInterrupt",
     "evalue": "",
     "output_type": "error",
     "traceback": [
      "\u001b[0;31m---------------------------------------------------------------------------\u001b[0m",
      "\u001b[0;31mKeyboardInterrupt\u001b[0m                         Traceback (most recent call last)",
      "Cell \u001b[0;32mIn[33], line 4\u001b[0m\n\u001b[1;32m      1\u001b[0m result(clf, \u001b[39m0.035\u001b[39m)\n\u001b[1;32m      3\u001b[0m num_simulations \u001b[39m=\u001b[39m \u001b[39m5\u001b[39m\n\u001b[0;32m----> 4\u001b[0m report()\n",
      "Cell \u001b[0;32mIn[31], line 43\u001b[0m, in \u001b[0;36mreport\u001b[0;34m(**params)\u001b[0m\n\u001b[1;32m     41\u001b[0m     X_train \u001b[39m=\u001b[39m sc\u001b[39m.\u001b[39mfit_transform(X_train)\n\u001b[1;32m     42\u001b[0m     X_test \u001b[39m=\u001b[39m sc\u001b[39m.\u001b[39mfit_transform(X_test)\n\u001b[0;32m---> 43\u001b[0m     clf\u001b[39m.\u001b[39;49mfit(X_train, y_train)\n\u001b[1;32m     44\u001b[0m     scores\u001b[39m.\u001b[39mappend(accuracy_score(clf\u001b[39m.\u001b[39mpredict(X_test), y_test)) \n\u001b[1;32m     46\u001b[0m Importance \u001b[39m=\u001b[39m pd\u001b[39m.\u001b[39mDataFrame({\u001b[39m'\u001b[39m\u001b[39mImportance\u001b[39m\u001b[39m'\u001b[39m:clf\u001b[39m.\u001b[39mfeature_importances_\u001b[39m*\u001b[39m\u001b[39m100\u001b[39m},index\u001b[39m=\u001b[39mdf\u001b[39m.\u001b[39mcolumns[\u001b[39m1\u001b[39m:\u001b[39m32\u001b[39m])\n",
      "File \u001b[0;32m~/anaconda3/envs/snakes/lib/python3.9/site-packages/lightgbm/sklearn.py:967\u001b[0m, in \u001b[0;36mLGBMClassifier.fit\u001b[0;34m(self, X, y, sample_weight, init_score, eval_set, eval_names, eval_sample_weight, eval_class_weight, eval_init_score, eval_metric, early_stopping_rounds, verbose, feature_name, categorical_feature, callbacks, init_model)\u001b[0m\n\u001b[1;32m    964\u001b[0m         \u001b[39melse\u001b[39;00m:\n\u001b[1;32m    965\u001b[0m             valid_sets[i] \u001b[39m=\u001b[39m (valid_x, \u001b[39mself\u001b[39m\u001b[39m.\u001b[39m_le\u001b[39m.\u001b[39mtransform(valid_y))\n\u001b[0;32m--> 967\u001b[0m \u001b[39msuper\u001b[39;49m()\u001b[39m.\u001b[39;49mfit(X, _y, sample_weight\u001b[39m=\u001b[39;49msample_weight, init_score\u001b[39m=\u001b[39;49minit_score, eval_set\u001b[39m=\u001b[39;49mvalid_sets,\n\u001b[1;32m    968\u001b[0m             eval_names\u001b[39m=\u001b[39;49meval_names, eval_sample_weight\u001b[39m=\u001b[39;49meval_sample_weight,\n\u001b[1;32m    969\u001b[0m             eval_class_weight\u001b[39m=\u001b[39;49meval_class_weight, eval_init_score\u001b[39m=\u001b[39;49meval_init_score,\n\u001b[1;32m    970\u001b[0m             eval_metric\u001b[39m=\u001b[39;49meval_metric, early_stopping_rounds\u001b[39m=\u001b[39;49mearly_stopping_rounds,\n\u001b[1;32m    971\u001b[0m             verbose\u001b[39m=\u001b[39;49mverbose, feature_name\u001b[39m=\u001b[39;49mfeature_name, categorical_feature\u001b[39m=\u001b[39;49mcategorical_feature,\n\u001b[1;32m    972\u001b[0m             callbacks\u001b[39m=\u001b[39;49mcallbacks, init_model\u001b[39m=\u001b[39;49minit_model)\n\u001b[1;32m    973\u001b[0m \u001b[39mreturn\u001b[39;00m \u001b[39mself\u001b[39m\n",
      "File \u001b[0;32m~/anaconda3/envs/snakes/lib/python3.9/site-packages/lightgbm/sklearn.py:748\u001b[0m, in \u001b[0;36mLGBMModel.fit\u001b[0;34m(self, X, y, sample_weight, init_score, group, eval_set, eval_names, eval_sample_weight, eval_class_weight, eval_init_score, eval_group, eval_metric, early_stopping_rounds, verbose, feature_name, categorical_feature, callbacks, init_model)\u001b[0m\n\u001b[1;32m    745\u001b[0m evals_result \u001b[39m=\u001b[39m {}\n\u001b[1;32m    746\u001b[0m callbacks\u001b[39m.\u001b[39mappend(record_evaluation(evals_result))\n\u001b[0;32m--> 748\u001b[0m \u001b[39mself\u001b[39m\u001b[39m.\u001b[39m_Booster \u001b[39m=\u001b[39m train(\n\u001b[1;32m    749\u001b[0m     params\u001b[39m=\u001b[39;49mparams,\n\u001b[1;32m    750\u001b[0m     train_set\u001b[39m=\u001b[39;49mtrain_set,\n\u001b[1;32m    751\u001b[0m     num_boost_round\u001b[39m=\u001b[39;49m\u001b[39mself\u001b[39;49m\u001b[39m.\u001b[39;49mn_estimators,\n\u001b[1;32m    752\u001b[0m     valid_sets\u001b[39m=\u001b[39;49mvalid_sets,\n\u001b[1;32m    753\u001b[0m     valid_names\u001b[39m=\u001b[39;49meval_names,\n\u001b[1;32m    754\u001b[0m     fobj\u001b[39m=\u001b[39;49m\u001b[39mself\u001b[39;49m\u001b[39m.\u001b[39;49m_fobj,\n\u001b[1;32m    755\u001b[0m     feval\u001b[39m=\u001b[39;49meval_metrics_callable,\n\u001b[1;32m    756\u001b[0m     init_model\u001b[39m=\u001b[39;49minit_model,\n\u001b[1;32m    757\u001b[0m     feature_name\u001b[39m=\u001b[39;49mfeature_name,\n\u001b[1;32m    758\u001b[0m     callbacks\u001b[39m=\u001b[39;49mcallbacks\n\u001b[1;32m    759\u001b[0m )\n\u001b[1;32m    761\u001b[0m \u001b[39mif\u001b[39;00m evals_result:\n\u001b[1;32m    762\u001b[0m     \u001b[39mself\u001b[39m\u001b[39m.\u001b[39m_evals_result \u001b[39m=\u001b[39m evals_result\n",
      "File \u001b[0;32m~/anaconda3/envs/snakes/lib/python3.9/site-packages/lightgbm/engine.py:292\u001b[0m, in \u001b[0;36mtrain\u001b[0;34m(params, train_set, num_boost_round, valid_sets, valid_names, fobj, feval, init_model, feature_name, categorical_feature, early_stopping_rounds, evals_result, verbose_eval, learning_rates, keep_training_booster, callbacks)\u001b[0m\n\u001b[1;32m    284\u001b[0m \u001b[39mfor\u001b[39;00m cb \u001b[39min\u001b[39;00m callbacks_before_iter:\n\u001b[1;32m    285\u001b[0m     cb(callback\u001b[39m.\u001b[39mCallbackEnv(model\u001b[39m=\u001b[39mbooster,\n\u001b[1;32m    286\u001b[0m                             params\u001b[39m=\u001b[39mparams,\n\u001b[1;32m    287\u001b[0m                             iteration\u001b[39m=\u001b[39mi,\n\u001b[1;32m    288\u001b[0m                             begin_iteration\u001b[39m=\u001b[39minit_iteration,\n\u001b[1;32m    289\u001b[0m                             end_iteration\u001b[39m=\u001b[39minit_iteration \u001b[39m+\u001b[39m num_boost_round,\n\u001b[1;32m    290\u001b[0m                             evaluation_result_list\u001b[39m=\u001b[39m\u001b[39mNone\u001b[39;00m))\n\u001b[0;32m--> 292\u001b[0m booster\u001b[39m.\u001b[39;49mupdate(fobj\u001b[39m=\u001b[39;49mfobj)\n\u001b[1;32m    294\u001b[0m evaluation_result_list \u001b[39m=\u001b[39m []\n\u001b[1;32m    295\u001b[0m \u001b[39m# check evaluation result.\u001b[39;00m\n",
      "File \u001b[0;32m~/anaconda3/envs/snakes/lib/python3.9/site-packages/lightgbm/basic.py:3021\u001b[0m, in \u001b[0;36mBooster.update\u001b[0;34m(self, train_set, fobj)\u001b[0m\n\u001b[1;32m   3019\u001b[0m \u001b[39mif\u001b[39;00m \u001b[39mself\u001b[39m\u001b[39m.\u001b[39m__set_objective_to_none:\n\u001b[1;32m   3020\u001b[0m     \u001b[39mraise\u001b[39;00m LightGBMError(\u001b[39m'\u001b[39m\u001b[39mCannot update due to null objective function.\u001b[39m\u001b[39m'\u001b[39m)\n\u001b[0;32m-> 3021\u001b[0m _safe_call(_LIB\u001b[39m.\u001b[39;49mLGBM_BoosterUpdateOneIter(\n\u001b[1;32m   3022\u001b[0m     \u001b[39mself\u001b[39;49m\u001b[39m.\u001b[39;49mhandle,\n\u001b[1;32m   3023\u001b[0m     ctypes\u001b[39m.\u001b[39;49mbyref(is_finished)))\n\u001b[1;32m   3024\u001b[0m \u001b[39mself\u001b[39m\u001b[39m.\u001b[39m__is_predicted_cur_iter \u001b[39m=\u001b[39m [\u001b[39mFalse\u001b[39;00m \u001b[39mfor\u001b[39;00m _ \u001b[39min\u001b[39;00m \u001b[39mrange\u001b[39m(\u001b[39mself\u001b[39m\u001b[39m.\u001b[39m__num_dataset)]\n\u001b[1;32m   3025\u001b[0m \u001b[39mreturn\u001b[39;00m is_finished\u001b[39m.\u001b[39mvalue \u001b[39m==\u001b[39m \u001b[39m1\u001b[39m\n",
      "\u001b[0;31mKeyboardInterrupt\u001b[0m: "
     ]
    }
   ],
   "source": [
    "result(clf, 0.035)\n",
    "\n",
    "num_simulations = 5\n",
    "report()"
   ]
  },
  {
   "cell_type": "code",
   "execution_count": 34,
   "metadata": {},
   "outputs": [
    {
     "name": "stdout",
     "output_type": "stream",
     "text": [
      "Fitting 10 folds for each of 209 candidates, totalling 2090 fits\n"
     ]
    },
    {
     "name": "stderr",
     "output_type": "stream",
     "text": [
      "/Users/meikeepauline/anaconda3/envs/snakes/lib/python3.9/site-packages/sklearn/preprocessing/_label.py:99: DataConversionWarning: A column-vector y was passed when a 1d array was expected. Please change the shape of y to (n_samples, ), for example using ravel().\n",
      "  y = column_or_1d(y, warn=True)\n",
      "/Users/meikeepauline/anaconda3/envs/snakes/lib/python3.9/site-packages/sklearn/preprocessing/_label.py:99: DataConversionWarning: A column-vector y was passed when a 1d array was expected. Please change the shape of y to (n_samples, ), for example using ravel().\n",
      "  y = column_or_1d(y, warn=True)\n",
      "/Users/meikeepauline/anaconda3/envs/snakes/lib/python3.9/site-packages/sklearn/preprocessing/_label.py:134: DataConversionWarning: A column-vector y was passed when a 1d array was expected. Please change the shape of y to (n_samples, ), for example using ravel().\n",
      "  y = column_or_1d(y, dtype=self.classes_.dtype, warn=True)\n",
      "/Users/meikeepauline/anaconda3/envs/snakes/lib/python3.9/site-packages/sklearn/preprocessing/_label.py:134: DataConversionWarning: A column-vector y was passed when a 1d array was expected. Please change the shape of y to (n_samples, ), for example using ravel().\n",
      "  y = column_or_1d(y, dtype=self.classes_.dtype, warn=True)\n",
      "/Users/meikeepauline/anaconda3/envs/snakes/lib/python3.9/site-packages/sklearn/preprocessing/_label.py:99: DataConversionWarning: A column-vector y was passed when a 1d array was expected. Please change the shape of y to (n_samples, ), for example using ravel().\n",
      "  y = column_or_1d(y, warn=True)\n",
      "/Users/meikeepauline/anaconda3/envs/snakes/lib/python3.9/site-packages/sklearn/preprocessing/_label.py:99: DataConversionWarning: A column-vector y was passed when a 1d array was expected. Please change the shape of y to (n_samples, ), for example using ravel().\n",
      "  y = column_or_1d(y, warn=True)\n",
      "/Users/meikeepauline/anaconda3/envs/snakes/lib/python3.9/site-packages/sklearn/preprocessing/_label.py:134: DataConversionWarning: A column-vector y was passed when a 1d array was expected. Please change the shape of y to (n_samples, ), for example using ravel().\n",
      "  y = column_or_1d(y, dtype=self.classes_.dtype, warn=True)\n",
      "/Users/meikeepauline/anaconda3/envs/snakes/lib/python3.9/site-packages/sklearn/preprocessing/_label.py:134: DataConversionWarning: A column-vector y was passed when a 1d array was expected. Please change the shape of y to (n_samples, ), for example using ravel().\n",
      "  y = column_or_1d(y, dtype=self.classes_.dtype, warn=True)\n"
     ]
    },
    {
     "name": "stdout",
     "output_type": "stream",
     "text": [
      "[CV] END ...........colsample_bytree=0.5, min_child_weight=1; total time= 3.4min\n",
      "[CV] END ...........colsample_bytree=0.5, min_child_weight=1; total time= 3.4min\n",
      "[CV] END ...........colsample_bytree=0.5, min_child_weight=1; total time= 3.5min\n",
      "[CV] END ...........colsample_bytree=0.5, min_child_weight=1; total time= 3.5min\n"
     ]
    },
    {
     "name": "stderr",
     "output_type": "stream",
     "text": [
      "/Users/meikeepauline/anaconda3/envs/snakes/lib/python3.9/site-packages/sklearn/preprocessing/_label.py:99: DataConversionWarning: A column-vector y was passed when a 1d array was expected. Please change the shape of y to (n_samples, ), for example using ravel().\n",
      "  y = column_or_1d(y, warn=True)\n",
      "/Users/meikeepauline/anaconda3/envs/snakes/lib/python3.9/site-packages/sklearn/preprocessing/_label.py:99: DataConversionWarning: A column-vector y was passed when a 1d array was expected. Please change the shape of y to (n_samples, ), for example using ravel().\n",
      "  y = column_or_1d(y, warn=True)\n",
      "/Users/meikeepauline/anaconda3/envs/snakes/lib/python3.9/site-packages/sklearn/preprocessing/_label.py:99: DataConversionWarning: A column-vector y was passed when a 1d array was expected. Please change the shape of y to (n_samples, ), for example using ravel().\n",
      "  y = column_or_1d(y, warn=True)\n",
      "/Users/meikeepauline/anaconda3/envs/snakes/lib/python3.9/site-packages/sklearn/preprocessing/_label.py:99: DataConversionWarning: A column-vector y was passed when a 1d array was expected. Please change the shape of y to (n_samples, ), for example using ravel().\n",
      "  y = column_or_1d(y, warn=True)\n",
      "/Users/meikeepauline/anaconda3/envs/snakes/lib/python3.9/site-packages/sklearn/preprocessing/_label.py:134: DataConversionWarning: A column-vector y was passed when a 1d array was expected. Please change the shape of y to (n_samples, ), for example using ravel().\n",
      "  y = column_or_1d(y, dtype=self.classes_.dtype, warn=True)\n",
      "/Users/meikeepauline/anaconda3/envs/snakes/lib/python3.9/site-packages/sklearn/preprocessing/_label.py:134: DataConversionWarning: A column-vector y was passed when a 1d array was expected. Please change the shape of y to (n_samples, ), for example using ravel().\n",
      "  y = column_or_1d(y, dtype=self.classes_.dtype, warn=True)\n",
      "/Users/meikeepauline/anaconda3/envs/snakes/lib/python3.9/site-packages/sklearn/preprocessing/_label.py:134: DataConversionWarning: A column-vector y was passed when a 1d array was expected. Please change the shape of y to (n_samples, ), for example using ravel().\n",
      "  y = column_or_1d(y, dtype=self.classes_.dtype, warn=True)\n",
      "/Users/meikeepauline/anaconda3/envs/snakes/lib/python3.9/site-packages/sklearn/preprocessing/_label.py:134: DataConversionWarning: A column-vector y was passed when a 1d array was expected. Please change the shape of y to (n_samples, ), for example using ravel().\n",
      "  y = column_or_1d(y, dtype=self.classes_.dtype, warn=True)\n"
     ]
    },
    {
     "ename": "KeyboardInterrupt",
     "evalue": "",
     "output_type": "error",
     "traceback": [
      "\u001b[0;31m---------------------------------------------------------------------------\u001b[0m",
      "\u001b[0;31mKeyboardInterrupt\u001b[0m                         Traceback (most recent call last)",
      "Cell \u001b[0;32mIn[34], line 8\u001b[0m\n\u001b[1;32m      6\u001b[0m clf \u001b[39m=\u001b[39m LGBMClassifier()\n\u001b[1;32m      7\u001b[0m grid \u001b[39m=\u001b[39m GridSearchCV(clf, param_grid, n_jobs\u001b[39m=\u001b[39m\u001b[39m-\u001b[39m\u001b[39m1\u001b[39m, verbose\u001b[39m=\u001b[39m\u001b[39m2\u001b[39m, cv\u001b[39m=\u001b[39m\u001b[39m10\u001b[39m)\n\u001b[0;32m----> 8\u001b[0m grid\u001b[39m.\u001b[39;49mfit(X_train, y_train)\n\u001b[1;32m      9\u001b[0m grid\u001b[39m.\u001b[39mbest_params_\n",
      "File \u001b[0;32m~/anaconda3/envs/snakes/lib/python3.9/site-packages/sklearn/model_selection/_search.py:874\u001b[0m, in \u001b[0;36mBaseSearchCV.fit\u001b[0;34m(self, X, y, groups, **fit_params)\u001b[0m\n\u001b[1;32m    868\u001b[0m     results \u001b[39m=\u001b[39m \u001b[39mself\u001b[39m\u001b[39m.\u001b[39m_format_results(\n\u001b[1;32m    869\u001b[0m         all_candidate_params, n_splits, all_out, all_more_results\n\u001b[1;32m    870\u001b[0m     )\n\u001b[1;32m    872\u001b[0m     \u001b[39mreturn\u001b[39;00m results\n\u001b[0;32m--> 874\u001b[0m \u001b[39mself\u001b[39;49m\u001b[39m.\u001b[39;49m_run_search(evaluate_candidates)\n\u001b[1;32m    876\u001b[0m \u001b[39m# multimetric is determined here because in the case of a callable\u001b[39;00m\n\u001b[1;32m    877\u001b[0m \u001b[39m# self.scoring the return type is only known after calling\u001b[39;00m\n\u001b[1;32m    878\u001b[0m first_test_score \u001b[39m=\u001b[39m all_out[\u001b[39m0\u001b[39m][\u001b[39m\"\u001b[39m\u001b[39mtest_scores\u001b[39m\u001b[39m\"\u001b[39m]\n",
      "File \u001b[0;32m~/anaconda3/envs/snakes/lib/python3.9/site-packages/sklearn/model_selection/_search.py:1388\u001b[0m, in \u001b[0;36mGridSearchCV._run_search\u001b[0;34m(self, evaluate_candidates)\u001b[0m\n\u001b[1;32m   1386\u001b[0m \u001b[39mdef\u001b[39;00m \u001b[39m_run_search\u001b[39m(\u001b[39mself\u001b[39m, evaluate_candidates):\n\u001b[1;32m   1387\u001b[0m \u001b[39m    \u001b[39m\u001b[39m\"\"\"Search all candidates in param_grid\"\"\"\u001b[39;00m\n\u001b[0;32m-> 1388\u001b[0m     evaluate_candidates(ParameterGrid(\u001b[39mself\u001b[39;49m\u001b[39m.\u001b[39;49mparam_grid))\n",
      "File \u001b[0;32m~/anaconda3/envs/snakes/lib/python3.9/site-packages/sklearn/model_selection/_search.py:821\u001b[0m, in \u001b[0;36mBaseSearchCV.fit.<locals>.evaluate_candidates\u001b[0;34m(candidate_params, cv, more_results)\u001b[0m\n\u001b[1;32m    813\u001b[0m \u001b[39mif\u001b[39;00m \u001b[39mself\u001b[39m\u001b[39m.\u001b[39mverbose \u001b[39m>\u001b[39m \u001b[39m0\u001b[39m:\n\u001b[1;32m    814\u001b[0m     \u001b[39mprint\u001b[39m(\n\u001b[1;32m    815\u001b[0m         \u001b[39m\"\u001b[39m\u001b[39mFitting \u001b[39m\u001b[39m{0}\u001b[39;00m\u001b[39m folds for each of \u001b[39m\u001b[39m{1}\u001b[39;00m\u001b[39m candidates,\u001b[39m\u001b[39m\"\u001b[39m\n\u001b[1;32m    816\u001b[0m         \u001b[39m\"\u001b[39m\u001b[39m totalling \u001b[39m\u001b[39m{2}\u001b[39;00m\u001b[39m fits\u001b[39m\u001b[39m\"\u001b[39m\u001b[39m.\u001b[39mformat(\n\u001b[1;32m    817\u001b[0m             n_splits, n_candidates, n_candidates \u001b[39m*\u001b[39m n_splits\n\u001b[1;32m    818\u001b[0m         )\n\u001b[1;32m    819\u001b[0m     )\n\u001b[0;32m--> 821\u001b[0m out \u001b[39m=\u001b[39m parallel(\n\u001b[1;32m    822\u001b[0m     delayed(_fit_and_score)(\n\u001b[1;32m    823\u001b[0m         clone(base_estimator),\n\u001b[1;32m    824\u001b[0m         X,\n\u001b[1;32m    825\u001b[0m         y,\n\u001b[1;32m    826\u001b[0m         train\u001b[39m=\u001b[39;49mtrain,\n\u001b[1;32m    827\u001b[0m         test\u001b[39m=\u001b[39;49mtest,\n\u001b[1;32m    828\u001b[0m         parameters\u001b[39m=\u001b[39;49mparameters,\n\u001b[1;32m    829\u001b[0m         split_progress\u001b[39m=\u001b[39;49m(split_idx, n_splits),\n\u001b[1;32m    830\u001b[0m         candidate_progress\u001b[39m=\u001b[39;49m(cand_idx, n_candidates),\n\u001b[1;32m    831\u001b[0m         \u001b[39m*\u001b[39;49m\u001b[39m*\u001b[39;49mfit_and_score_kwargs,\n\u001b[1;32m    832\u001b[0m     )\n\u001b[1;32m    833\u001b[0m     \u001b[39mfor\u001b[39;49;00m (cand_idx, parameters), (split_idx, (train, test)) \u001b[39min\u001b[39;49;00m product(\n\u001b[1;32m    834\u001b[0m         \u001b[39menumerate\u001b[39;49m(candidate_params), \u001b[39menumerate\u001b[39;49m(cv\u001b[39m.\u001b[39;49msplit(X, y, groups))\n\u001b[1;32m    835\u001b[0m     )\n\u001b[1;32m    836\u001b[0m )\n\u001b[1;32m    838\u001b[0m \u001b[39mif\u001b[39;00m \u001b[39mlen\u001b[39m(out) \u001b[39m<\u001b[39m \u001b[39m1\u001b[39m:\n\u001b[1;32m    839\u001b[0m     \u001b[39mraise\u001b[39;00m \u001b[39mValueError\u001b[39;00m(\n\u001b[1;32m    840\u001b[0m         \u001b[39m\"\u001b[39m\u001b[39mNo fits were performed. \u001b[39m\u001b[39m\"\u001b[39m\n\u001b[1;32m    841\u001b[0m         \u001b[39m\"\u001b[39m\u001b[39mWas the CV iterator empty? \u001b[39m\u001b[39m\"\u001b[39m\n\u001b[1;32m    842\u001b[0m         \u001b[39m\"\u001b[39m\u001b[39mWere there no candidates?\u001b[39m\u001b[39m\"\u001b[39m\n\u001b[1;32m    843\u001b[0m     )\n",
      "File \u001b[0;32m~/anaconda3/envs/snakes/lib/python3.9/site-packages/sklearn/utils/parallel.py:63\u001b[0m, in \u001b[0;36mParallel.__call__\u001b[0;34m(self, iterable)\u001b[0m\n\u001b[1;32m     58\u001b[0m config \u001b[39m=\u001b[39m get_config()\n\u001b[1;32m     59\u001b[0m iterable_with_config \u001b[39m=\u001b[39m (\n\u001b[1;32m     60\u001b[0m     (_with_config(delayed_func, config), args, kwargs)\n\u001b[1;32m     61\u001b[0m     \u001b[39mfor\u001b[39;00m delayed_func, args, kwargs \u001b[39min\u001b[39;00m iterable\n\u001b[1;32m     62\u001b[0m )\n\u001b[0;32m---> 63\u001b[0m \u001b[39mreturn\u001b[39;00m \u001b[39msuper\u001b[39;49m()\u001b[39m.\u001b[39;49m\u001b[39m__call__\u001b[39;49m(iterable_with_config)\n",
      "File \u001b[0;32m~/anaconda3/envs/snakes/lib/python3.9/site-packages/joblib/parallel.py:1098\u001b[0m, in \u001b[0;36mParallel.__call__\u001b[0;34m(self, iterable)\u001b[0m\n\u001b[1;32m   1095\u001b[0m     \u001b[39mself\u001b[39m\u001b[39m.\u001b[39m_iterating \u001b[39m=\u001b[39m \u001b[39mFalse\u001b[39;00m\n\u001b[1;32m   1097\u001b[0m \u001b[39mwith\u001b[39;00m \u001b[39mself\u001b[39m\u001b[39m.\u001b[39m_backend\u001b[39m.\u001b[39mretrieval_context():\n\u001b[0;32m-> 1098\u001b[0m     \u001b[39mself\u001b[39;49m\u001b[39m.\u001b[39;49mretrieve()\n\u001b[1;32m   1099\u001b[0m \u001b[39m# Make sure that we get a last message telling us we are done\u001b[39;00m\n\u001b[1;32m   1100\u001b[0m elapsed_time \u001b[39m=\u001b[39m time\u001b[39m.\u001b[39mtime() \u001b[39m-\u001b[39m \u001b[39mself\u001b[39m\u001b[39m.\u001b[39m_start_time\n",
      "File \u001b[0;32m~/anaconda3/envs/snakes/lib/python3.9/site-packages/joblib/parallel.py:975\u001b[0m, in \u001b[0;36mParallel.retrieve\u001b[0;34m(self)\u001b[0m\n\u001b[1;32m    973\u001b[0m \u001b[39mtry\u001b[39;00m:\n\u001b[1;32m    974\u001b[0m     \u001b[39mif\u001b[39;00m \u001b[39mgetattr\u001b[39m(\u001b[39mself\u001b[39m\u001b[39m.\u001b[39m_backend, \u001b[39m'\u001b[39m\u001b[39msupports_timeout\u001b[39m\u001b[39m'\u001b[39m, \u001b[39mFalse\u001b[39;00m):\n\u001b[0;32m--> 975\u001b[0m         \u001b[39mself\u001b[39m\u001b[39m.\u001b[39m_output\u001b[39m.\u001b[39mextend(job\u001b[39m.\u001b[39;49mget(timeout\u001b[39m=\u001b[39;49m\u001b[39mself\u001b[39;49m\u001b[39m.\u001b[39;49mtimeout))\n\u001b[1;32m    976\u001b[0m     \u001b[39melse\u001b[39;00m:\n\u001b[1;32m    977\u001b[0m         \u001b[39mself\u001b[39m\u001b[39m.\u001b[39m_output\u001b[39m.\u001b[39mextend(job\u001b[39m.\u001b[39mget())\n",
      "File \u001b[0;32m~/anaconda3/envs/snakes/lib/python3.9/site-packages/joblib/_parallel_backends.py:567\u001b[0m, in \u001b[0;36mLokyBackend.wrap_future_result\u001b[0;34m(future, timeout)\u001b[0m\n\u001b[1;32m    564\u001b[0m \u001b[39m\u001b[39m\u001b[39m\"\"\"Wrapper for Future.result to implement the same behaviour as\u001b[39;00m\n\u001b[1;32m    565\u001b[0m \u001b[39mAsyncResults.get from multiprocessing.\"\"\"\u001b[39;00m\n\u001b[1;32m    566\u001b[0m \u001b[39mtry\u001b[39;00m:\n\u001b[0;32m--> 567\u001b[0m     \u001b[39mreturn\u001b[39;00m future\u001b[39m.\u001b[39;49mresult(timeout\u001b[39m=\u001b[39;49mtimeout)\n\u001b[1;32m    568\u001b[0m \u001b[39mexcept\u001b[39;00m CfTimeoutError \u001b[39mas\u001b[39;00m e:\n\u001b[1;32m    569\u001b[0m     \u001b[39mraise\u001b[39;00m \u001b[39mTimeoutError\u001b[39;00m \u001b[39mfrom\u001b[39;00m \u001b[39me\u001b[39;00m\n",
      "File \u001b[0;32m~/anaconda3/envs/snakes/lib/python3.9/concurrent/futures/_base.py:441\u001b[0m, in \u001b[0;36mFuture.result\u001b[0;34m(self, timeout)\u001b[0m\n\u001b[1;32m    438\u001b[0m \u001b[39melif\u001b[39;00m \u001b[39mself\u001b[39m\u001b[39m.\u001b[39m_state \u001b[39m==\u001b[39m FINISHED:\n\u001b[1;32m    439\u001b[0m     \u001b[39mreturn\u001b[39;00m \u001b[39mself\u001b[39m\u001b[39m.\u001b[39m__get_result()\n\u001b[0;32m--> 441\u001b[0m \u001b[39mself\u001b[39;49m\u001b[39m.\u001b[39;49m_condition\u001b[39m.\u001b[39;49mwait(timeout)\n\u001b[1;32m    443\u001b[0m \u001b[39mif\u001b[39;00m \u001b[39mself\u001b[39m\u001b[39m.\u001b[39m_state \u001b[39min\u001b[39;00m [CANCELLED, CANCELLED_AND_NOTIFIED]:\n\u001b[1;32m    444\u001b[0m     \u001b[39mraise\u001b[39;00m CancelledError()\n",
      "File \u001b[0;32m~/anaconda3/envs/snakes/lib/python3.9/threading.py:312\u001b[0m, in \u001b[0;36mCondition.wait\u001b[0;34m(self, timeout)\u001b[0m\n\u001b[1;32m    310\u001b[0m \u001b[39mtry\u001b[39;00m:    \u001b[39m# restore state no matter what (e.g., KeyboardInterrupt)\u001b[39;00m\n\u001b[1;32m    311\u001b[0m     \u001b[39mif\u001b[39;00m timeout \u001b[39mis\u001b[39;00m \u001b[39mNone\u001b[39;00m:\n\u001b[0;32m--> 312\u001b[0m         waiter\u001b[39m.\u001b[39;49macquire()\n\u001b[1;32m    313\u001b[0m         gotit \u001b[39m=\u001b[39m \u001b[39mTrue\u001b[39;00m\n\u001b[1;32m    314\u001b[0m     \u001b[39melse\u001b[39;00m:\n",
      "\u001b[0;31mKeyboardInterrupt\u001b[0m: "
     ]
    }
   ],
   "source": [
    "param_grid = {\n",
    "    'min_child_weight': np.arange(1,20,1),\n",
    "    'colsample_bytree': np.linspace(0.5,2,11)\n",
    "}\n",
    "\n",
    "clf = LGBMClassifier()\n",
    "grid = GridSearchCV(clf, param_grid, n_jobs=-1, verbose=2, cv=10)\n",
    "grid.fit(X_train, y_train)\n",
    "grid.best_params_"
   ]
  },
  {
   "cell_type": "code",
   "execution_count": null,
   "metadata": {},
   "outputs": [],
   "source": [
    "clf = LGBMClassifier(\n",
    "    min_child_weight= 0.6,\n",
    "    colsample_bytree= 0.65,\n",
    "    n_jobs=-1\n",
    ")\n",
    "\n",
    "result(clf)"
   ]
  },
  {
   "cell_type": "code",
   "execution_count": null,
   "metadata": {},
   "outputs": [],
   "source": [
    "report(\n",
    "    max_depth= 1,\n",
    "    min_child_weight= 1,\n",
    ")"
   ]
  },
  {
   "cell_type": "code",
   "execution_count": null,
   "metadata": {},
   "outputs": [],
   "source": [
    "param_grid = {\n",
    "    \"n_estimators\": [10,100,1000,10000 ]\n",
    "}\n",
    "\n",
    "clf = LGBMClassifier()\n",
    "grid = GridSearchCV(clf, param_grid, n_jobs=-1, verbose=2, cv=10)\n",
    "grid.fit(X_train, y_train)\n",
    "grid.best_params_"
   ]
  },
  {
   "cell_type": "code",
   "execution_count": null,
   "metadata": {},
   "outputs": [],
   "source": [
    "clf = LGBMClassifier(\n",
    "    max_depth= 1,\n",
    "    min_child_weight= 1,\n",
    "    gamma = 0.0,\n",
    "    colsample_bytree= 0.5,\n",
    "    n_estimators=10\n",
    ")\n",
    "\n",
    "result(clf)"
   ]
  },
  {
   "cell_type": "code",
   "execution_count": null,
   "metadata": {},
   "outputs": [],
   "source": [
    "report(\n",
    "    max_depth= 1,\n",
    "    min_child_weight= 1,\n",
    "    gamma = 0.0,\n",
    "    colsample_bytree= 0.5,\n",
    "    n_estimators=10\n",
    ")"
   ]
  },
  {
   "cell_type": "code",
   "execution_count": null,
   "metadata": {},
   "outputs": [],
   "source": [
    "param_grid = {\n",
    " 'reg_alpha': [0.001, 0.005, 0.01, 0.05]\n",
    "}\n",
    "\n",
    "clf = LGBMClassifier()\n",
    "grid = GridSearchCV(clf, param_grid, n_jobs=-1, verbose=2, cv=10)\n",
    "grid.fit(X_train, y_train)\n",
    "grid.best_params_"
   ]
  },
  {
   "cell_type": "code",
   "execution_count": null,
   "metadata": {},
   "outputs": [],
   "source": [
    "clf = LGBMClassifier(\n",
    "    max_depth= 1,\n",
    "    min_child_weight= 1,\n",
    "    gamma = 0.0,\n",
    "    colsample_bytree= 0.5,\n",
    "    n_estimators=10,\n",
    "    reg_alpha=0.001\n",
    ")\n",
    "\n",
    "result(clf)"
   ]
  },
  {
   "cell_type": "code",
   "execution_count": null,
   "metadata": {},
   "outputs": [],
   "source": [
    "report(\n",
    "    max_depth= 1,\n",
    "    min_child_weight= 1,\n",
    "    colsample_bytree= 0.5,\n",
    "    n_estimators=10,\n",
    "    reg_alpha=0.001\n",
    ")"
   ]
  },
  {
   "cell_type": "code",
   "execution_count": null,
   "metadata": {},
   "outputs": [],
   "source": [
    "clf = LGBMClassifier(\n",
    "    max_depth= 1,\n",
    "    n_estimators=100,\n",
    "    colsample_bytree=0.9,\n",
    "    gamma=0.5,\n",
    "    learning_rate=0.01,\n",
    "    \n",
    ")\n",
    "\n",
    "result(clf)"
   ]
  },
  {
   "cell_type": "code",
   "execution_count": null,
   "metadata": {},
   "outputs": [],
   "source": [
    "report(\n",
    "    max_depth= 1,\n",
    "    n_estimators=100,\n",
    "    colsample_bytree=0.9,\n",
    "    gamma=0.5,\n",
    "    learning_rate=0.01,\n",
    ")"
   ]
  }
 ],
 "metadata": {
  "kernelspec": {
   "display_name": "Python 3 (ipykernel)",
   "language": "python",
   "name": "python3"
  },
  "language_info": {
   "codemirror_mode": {
    "name": "ipython",
    "version": 3
   },
   "file_extension": ".py",
   "mimetype": "text/x-python",
   "name": "python",
   "nbconvert_exporter": "python",
   "pygments_lexer": "ipython3",
   "version": "3.9.17"
  }
 },
 "nbformat": 4,
 "nbformat_minor": 2
}
